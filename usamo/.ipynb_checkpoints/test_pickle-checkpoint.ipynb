{
 "cells": [
  {
   "cell_type": "code",
   "execution_count": 1,
   "id": "90c7af13",
   "metadata": {},
   "outputs": [
    {
     "name": "stdout",
     "output_type": "stream",
     "text": [
      "USAMO!\n"
     ]
    }
   ],
   "source": [
    "import pickle\n",
    "with open(\"USAMO.pkl\", 'rb') as f:\n",
    "  data= pickle.load(f)\n",
    "print(data)"
   ]
  },
  {
   "cell_type": "code",
   "execution_count": 3,
   "id": "08933132",
   "metadata": {},
   "outputs": [],
   "source": [
    "import pickle\n",
    "with open(\"nono.pkl\", 'wb') as f:\n",
    "  pickle.dump(\"nono!\", f)"
   ]
  },
  {
   "cell_type": "code",
   "execution_count": 4,
   "id": "5c4254a7",
   "metadata": {},
   "outputs": [
    {
     "name": "stdout",
     "output_type": "stream",
     "text": [
      "nono!\n"
     ]
    }
   ],
   "source": [
    "import pickle\n",
    "with open(\"nono.pkl\", 'rb') as f:\n",
    "  data= pickle.load(f)\n",
    "print(data)"
   ]
  },
  {
   "cell_type": "code",
   "execution_count": null,
   "id": "298c7714",
   "metadata": {},
   "outputs": [],
   "source": [
    "from matplotlib import font_manager, rc\n",
    "\n",
    "font_name = font_manager.FontProperties(fname=\"/Downloads/malgun.ttf\").get_name()\n",
    "rc('font', family=font_name)\n",
    "\n",
    "import pandas as pd\n",
    "import numpy as np\n",
    "df = pd.read_csv(\"/Downloads/AXS_USD  Historical Data.csv\")\n",
    "print(df)\n",
    "df = df.iloc[:,[0,1]]\n",
    "\n",
    "import matplotlib.pyplot as plt\n",
    "x_data = pd.to_datetime(df['Date'])\n",
    "print(df.isna())\n",
    "y_data = df['Price']\n",
    "date = x_data\n",
    "plt.plot(x_data, y_data, label = \"price\", c = \"blue\")\n",
    "plt.title(\"메타버스!!\")\n",
    "plt.xlabel(\"Date\")\n",
    "plt.ylabel(\"Price\")\n",
    "plt.legend(loc='best')\n",
    "\n",
    "x_data = pd.to_numeric(x_data)\n",
    "import sklearn\n",
    "from sklearn import *\n",
    "model = sklearn.linear_model.LinearRegression()\n",
    "\n",
    "plt.show()\n",
    "\n"
   ]
  }
 ],
 "metadata": {
  "kernelspec": {
   "display_name": "Python 3 (ipykernel)",
   "language": "python",
   "name": "python3"
  },
  "language_info": {
   "codemirror_mode": {
    "name": "ipython",
    "version": 3
   },
   "file_extension": ".py",
   "mimetype": "text/x-python",
   "name": "python",
   "nbconvert_exporter": "python",
   "pygments_lexer": "ipython3",
   "version": "3.9.7"
  }
 },
 "nbformat": 4,
 "nbformat_minor": 5
}

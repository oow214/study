{
 "cells": [
  {
   "cell_type": "code",
   "execution_count": 2,
   "id": "9fa2a7f6",
   "metadata": {},
   "outputs": [
    {
     "data": {
      "text/html": [
       "<div>\n",
       "<style scoped>\n",
       "    .dataframe tbody tr th:only-of-type {\n",
       "        vertical-align: middle;\n",
       "    }\n",
       "\n",
       "    .dataframe tbody tr th {\n",
       "        vertical-align: top;\n",
       "    }\n",
       "\n",
       "    .dataframe thead th {\n",
       "        text-align: right;\n",
       "    }\n",
       "</style>\n",
       "<table border=\"1\" class=\"dataframe\">\n",
       "  <thead>\n",
       "    <tr style=\"text-align: right;\">\n",
       "      <th></th>\n",
       "      <th>avg_temperature</th>\n",
       "      <th>precipitation</th>\n",
       "    </tr>\n",
       "    <tr>\n",
       "      <th>date</th>\n",
       "      <th></th>\n",
       "      <th></th>\n",
       "    </tr>\n",
       "  </thead>\n",
       "  <tbody>\n",
       "    <tr>\n",
       "      <th>2016-01-01</th>\n",
       "      <td>4.266071</td>\n",
       "      <td>0.669811</td>\n",
       "    </tr>\n",
       "    <tr>\n",
       "      <th>2016-01-02</th>\n",
       "      <td>6.489286</td>\n",
       "      <td>1.148148</td>\n",
       "    </tr>\n",
       "    <tr>\n",
       "      <th>2016-01-03</th>\n",
       "      <td>8.208929</td>\n",
       "      <td>1.259259</td>\n",
       "    </tr>\n",
       "    <tr>\n",
       "      <th>2016-01-04</th>\n",
       "      <td>7.746429</td>\n",
       "      <td>0.382353</td>\n",
       "    </tr>\n",
       "    <tr>\n",
       "      <th>2016-01-05</th>\n",
       "      <td>6.283929</td>\n",
       "      <td>2.228814</td>\n",
       "    </tr>\n",
       "    <tr>\n",
       "      <th>...</th>\n",
       "      <td>...</td>\n",
       "      <td>...</td>\n",
       "    </tr>\n",
       "    <tr>\n",
       "      <th>2017-05-27</th>\n",
       "      <td>17.925000</td>\n",
       "      <td>4.651786</td>\n",
       "    </tr>\n",
       "    <tr>\n",
       "      <th>2017-05-28</th>\n",
       "      <td>18.558929</td>\n",
       "      <td>0.860000</td>\n",
       "    </tr>\n",
       "    <tr>\n",
       "      <th>2017-05-29</th>\n",
       "      <td>20.941071</td>\n",
       "      <td>0.127660</td>\n",
       "    </tr>\n",
       "    <tr>\n",
       "      <th>2017-05-30</th>\n",
       "      <td>22.458929</td>\n",
       "      <td>0.000000</td>\n",
       "    </tr>\n",
       "    <tr>\n",
       "      <th>2017-05-31</th>\n",
       "      <td>22.155357</td>\n",
       "      <td>0.941667</td>\n",
       "    </tr>\n",
       "  </tbody>\n",
       "</table>\n",
       "<p>517 rows × 2 columns</p>\n",
       "</div>"
      ],
      "text/plain": [
       "            avg_temperature  precipitation\n",
       "date                                      \n",
       "2016-01-01         4.266071       0.669811\n",
       "2016-01-02         6.489286       1.148148\n",
       "2016-01-03         8.208929       1.259259\n",
       "2016-01-04         7.746429       0.382353\n",
       "2016-01-05         6.283929       2.228814\n",
       "...                     ...            ...\n",
       "2017-05-27        17.925000       4.651786\n",
       "2017-05-28        18.558929       0.860000\n",
       "2017-05-29        20.941071       0.127660\n",
       "2017-05-30        22.458929       0.000000\n",
       "2017-05-31        22.155357       0.941667\n",
       "\n",
       "[517 rows x 2 columns]"
      ]
     },
     "execution_count": 2,
     "metadata": {},
     "output_type": "execute_result"
    }
   ],
   "source": [
    "import pandas as pd\n",
    "weather_df = pd.read_csv(\"archive/WeatherData.csv\")  # 날짜에 따른 날씨 정보가 들어있음\n",
    "# print(weather_df.info())\n",
    "# merge를 위해 날짜를 calendar_date에서 date로 변경\n",
    "weather_df = weather_df.rename(columns={'calendar_date':'date'})\n",
    "weather_df['date'] = pd.to_datetime(weather_df['date'])\n",
    "weather_df = weather_df.groupby(['date']).mean()\n",
    "weather_df = weather_df[['avg_temperature', 'precipitation']]\n",
    "weather_df"
   ]
  },
  {
   "cell_type": "code",
   "execution_count": 3,
   "id": "8d7f08ab",
   "metadata": {
    "scrolled": true
   },
   "outputs": [
    {
     "name": "stdout",
     "output_type": "stream",
     "text": [
      "           air_store_id  air_genre_name\n",
      "0  air_0f0cdeee6c9bf3d7  Italian/French\n",
      "1  air_7cc17a324ae5c7dc  Italian/French\n",
      "2  air_fee8dcf4d619598e  Italian/French\n",
      "3  air_a17f0778617c76e2  Italian/French\n",
      "4  air_83db5aff8f50478e  Italian/French\n"
     ]
    }
   ],
   "source": [
    "storeinfo_df = pd.read_csv(\"archive/air_store_info.csv\") #상점 정보(음식점 분류)가 들어있음\n",
    "storeinfo_df = storeinfo_df[['air_store_id', 'air_genre_name']]\n",
    "print(storeinfo_df.head())"
   ]
  },
  {
   "cell_type": "code",
   "execution_count": 4,
   "id": "70898513",
   "metadata": {},
   "outputs": [],
   "source": [
    "visit_df = pd.read_csv(\"archive/air_visit_data.csv\")  # 상점 방문객 수가 들어있음 \n",
    "# print(visit_df) \n",
    "# merge를 위해 날짜를 visit_date에서 date로 변경\n",
    "visit_df = visit_df.rename(columns={'visit_date':'date'})\n",
    "visit_df['date'] = pd.to_datetime(visit_df['date'])\n",
    "visit_df = visit_df[['air_store_id', 'date', 'visitors']]"
   ]
  },
  {
   "cell_type": "code",
   "execution_count": 5,
   "id": "8f3421a9",
   "metadata": {},
   "outputs": [
    {
     "name": "stdout",
     "output_type": "stream",
     "text": [
      "                air_store_id       date  visitors air_genre_name  \\\n",
      "0       air_ba937bf13d40fb24 2016-01-13        25     Dining bar   \n",
      "1       air_ba937bf13d40fb24 2016-01-14        32     Dining bar   \n",
      "2       air_ba937bf13d40fb24 2016-01-15        29     Dining bar   \n",
      "3       air_ba937bf13d40fb24 2016-01-16        22     Dining bar   \n",
      "4       air_ba937bf13d40fb24 2016-01-18         6     Dining bar   \n",
      "...                      ...        ...       ...            ...   \n",
      "252103  air_24e8414b9b07decb 2017-04-18         6          Other   \n",
      "252104  air_24e8414b9b07decb 2017-04-19         6          Other   \n",
      "252105  air_24e8414b9b07decb 2017-04-20         7          Other   \n",
      "252106  air_24e8414b9b07decb 2017-04-21         8          Other   \n",
      "252107  air_24e8414b9b07decb 2017-04-22         5          Other   \n",
      "\n",
      "        avg_temperature  precipitation  \n",
      "0              2.517857       2.413793  \n",
      "1              2.985714       3.586207  \n",
      "2              2.216071       0.563636  \n",
      "3              2.471429       1.783019  \n",
      "4              3.594643      21.343750  \n",
      "...                 ...            ...  \n",
      "252103        15.619643      19.880952  \n",
      "252104        13.910714       0.928571  \n",
      "252105        12.121429       0.074074  \n",
      "252106        13.542857       0.071429  \n",
      "252107        12.405357       3.428571  \n",
      "\n",
      "[252108 rows x 6 columns]\n",
      "<class 'pandas.core.frame.DataFrame'>\n",
      "Int64Index: 252108 entries, 0 to 252107\n",
      "Data columns (total 6 columns):\n",
      " #   Column           Non-Null Count   Dtype         \n",
      "---  ------           --------------   -----         \n",
      " 0   air_store_id     252108 non-null  object        \n",
      " 1   date             252108 non-null  datetime64[ns]\n",
      " 2   visitors         252108 non-null  int64         \n",
      " 3   air_genre_name   252108 non-null  object        \n",
      " 4   avg_temperature  252108 non-null  float64       \n",
      " 5   precipitation    252108 non-null  float64       \n",
      "dtypes: datetime64[ns](1), float64(2), int64(1), object(2)\n",
      "memory usage: 13.5+ MB\n",
      "None\n"
     ]
    }
   ],
   "source": [
    "store_df = pd.merge(visit_df, storeinfo_df, on='air_store_id', how='left')\n",
    "\n",
    "#print(store_df)\n",
    "#print(weather_df)\n",
    "\n",
    "store_weather_df = pd.merge(store_df, weather_df, on='date', how='left')\n",
    "print(store_weather_df)\n",
    "print(store_weather_df.info())"
   ]
  },
  {
   "cell_type": "code",
   "execution_count": 8,
   "id": "0cfeeb20",
   "metadata": {
    "scrolled": false
   },
   "outputs": [
    {
     "data": {
      "image/png": "[encoded data removed]",
      "text/plain": [
       "<Figure size 432x288 with 1 Axes>"
      ]
     },
     "metadata": {
      "needs_background": "light"
     },
     "output_type": "display_data"
    },
    {
     "data": {
      "image/png": "[encoded data removed]",
      "text/plain": [
       "<Figure size 360x360 with 1 Axes>"
      ]
     },
     "metadata": {
      "needs_background": "light"
     },
     "output_type": "display_data"
    }
   ],
   "source": [
    "import numpy as np\n",
    "### 1. 온도, 강수량, 방문객 수를 넘파이 배열로 생성 ###\n",
    "avg_temperature = np.array(store_weather_df['avg_temperature'])\n",
    "visitors = np.array(store_weather_df['visitors'])\n",
    "precipitation = np.array(store_weather_df['precipitation'])\n",
    "avg_temperature = (avg_temperature.reshape(-1,1))\n",
    "visitors = (visitors.reshape(-1,1))\n",
    "precipitation = (precipitation.reshape(-1,1))\n",
    "\n",
    "import matplotlib.pyplot as plt\n",
    "### 2. 2D 그래프 -  강수량에 따른 방문객 수 ###\n",
    "plt.scatter(precipitation, visitors)\n",
    "plt.xlabel(\"precipitation\")\n",
    "plt.ylabel(\"visitors\")\n",
    "plt.title(\"Number of visitors by precipitation\")\n",
    "\n",
    "\n",
    "### 3. 3D 그래프 - 온도와 강수량에 따른 방문객 수 ###\n",
    "fig = plt.figure(figsize=(5, 5))\n",
    "ax = plt.axes(projection=\"3d\")\n",
    "ax.scatter(avg_temperature, precipitation, visitors)\n",
    "ax.set_xlabel(\"avg_temperature\")\n",
    "ax.set_ylabel(\"precipitation\")\n",
    "ax.set_zlabel(\"visitors\")\n",
    "plt.title(\"Number of visitors by temperature and precipitation\")\n",
    "plt.show()"
   ]
  },
  {
   "cell_type": "code",
   "execution_count": 207,
   "id": "10bbe6c6",
   "metadata": {},
   "outputs": [
    {
     "name": "stdout",
     "output_type": "stream",
     "text": [
      "0.0022835233863592874\n"
     ]
    }
   ],
   "source": [
    "import sklearn\n",
    "from sklearn import *\n",
    "x_train,x_test,y_train,y_test= sklearn.model_selection.train_test_split(precipitation,visitors,test_size=0.2, shuffle=True, random_state=0)\n",
    "model = sklearn.linear_model.LinearRegression()\n",
    "model.fit(precipitation,visitors)\n",
    "print(model.score(precipitation, visitors))"
   ]
  },
  {
   "cell_type": "code",
   "execution_count": 14,
   "id": "aa61211e",
   "metadata": {},
   "outputs": [
    {
     "data": {
      "text/plain": [
       "array(['Asian', 'Bar/Cocktail', 'Cafe/Sweets', 'Creative cuisine',\n",
       "       'Dining bar', 'International cuisine', 'Italian/French', 'Izakaya',\n",
       "       'Japanese food', 'Karaoke/Party', 'Okonomiyaki/Monja/Teppanyaki',\n",
       "       'Other', 'Western food', 'Yakiniku/Korean food'], dtype='<U28')"
      ]
     },
     "execution_count": 14,
     "metadata": {},
     "output_type": "execute_result"
    }
   ],
   "source": [
    "store_df = store_df.groupby(['air_genre_name']).sum()\n",
    "# store_df = store_df.rename(columns={'visitors':'st_visitors'})\n",
    "store_df\n",
    "\n",
    "store_weather_df = pd.merge(store_weather_df, store_df, on='air_genre_name', how='left')\n",
    "\n",
    "\n",
    "st_visitors = np.array(store_df['visitors'])\n",
    "st_visitors\n",
    "\n",
    "air_genre_name = np.array(store_df.index.tolist())\n",
    "air_genre_name\n",
    "\n",
    "#store_df.reset_index(drop = False, inplace=True)\n",
    "# store_df.plot()\n",
    "\n",
    "# #store_df = store_df[['air_genre_name','visitors']]\n",
    "\n",
    "\n",
    "# #air_genre_name = np.delete(air_genre_name,(0), axis = 0)\n",
    "# st_visitors = (visitors.reshape(-1,1))\n",
    "# print(st_visitors)\n",
    "# #print(air_genre_name)\n",
    "\n",
    "# #visitors.dtype\n",
    "\n",
    "# import matplotlib.pyplot as plt\n",
    "# plt.plot(air_genre_name, st_visitors)\n",
    "# plt.scatter(air_genre_name, st_visitors)\n",
    "\n",
    "#plt.xlabel(\"air_genre_name\")\n",
    "#plt.ylabel(\"visitors\")\n",
    "\n",
    "#visit_df['visitors']\n"
   ]
  },
  {
   "cell_type": "code",
   "execution_count": 410,
   "id": "6dfbc339",
   "metadata": {},
   "outputs": [],
   "source": [
    "store_df = pd.merge(visit_df, storeinfo_df, on='air_store_id', how='left')"
   ]
  },
  {
   "cell_type": "code",
   "execution_count": null,
   "id": "bc76b1fc",
   "metadata": {},
   "outputs": [],
   "source": [
    "import sklearn\n",
    "from sklearn import *\n",
    "model = sklearn.linear_model.LogisticRegression(random_state = 0, solver='liblinear')\n",
    "model.fit(air_genre_name,visitors)\n",
    "pred = model.predict(air_genre_name)\n",
    "print(pred)\n",
    "plt.scatter(air_genre_name, pred, label = \"\", c = \"blue\")\n",
    "plt.title(\"Number of visitors by precipitation\")\n",
    "plt.xlabel(\"precipitation\")\n",
    "plt.ylabel(\"visitors\")\n",
    "plt.legend(loc='best')"
   ]
  }
 ],
 "metadata": {
  "kernelspec": {
   "display_name": "Python 3 (ipykernel)",
   "language": "python",
   "name": "python3"
  },
  "language_info": {
   "codemirror_mode": {
    "name": "ipython",
    "version": 3
   },
   "file_extension": ".py",
   "mimetype": "text/x-python",
   "name": "python",
   "nbconvert_exporter": "python",
   "pygments_lexer": "ipython3",
   "version": "3.9.7"
  }
 },
 "nbformat": 4,
 "nbformat_minor": 5
}

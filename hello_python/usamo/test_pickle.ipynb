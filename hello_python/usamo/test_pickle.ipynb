{
 "cells": [
  {
   "cell_type": "code",
   "execution_count": 1,
   "id": "90c7af13",
   "metadata": {},
   "outputs": [
    {
     "name": "stdout",
     "output_type": "stream",
     "text": [
      "USAMO!\n"
     ]
    }
   ],
   "source": [
    "import pickle\n",
    "with open(\"USAMO.pkl\", 'rb') as f:\n",
    "  data= pickle.load(f)\n",
    "print(data)"
   ]
  },
  {
   "cell_type": "code",
   "execution_count": 3,
   "id": "08933132",
   "metadata": {},
   "outputs": [],
   "source": [
    "import pickle\n",
    "with open(\"nono.pkl\", 'wb') as f:\n",
    "  pickle.dump(\"nono!\", f)"
   ]
  },
  {
   "cell_type": "code",
   "execution_count": 4,
   "id": "5c4254a7",
   "metadata": {},
   "outputs": [
    {
     "name": "stdout",
     "output_type": "stream",
     "text": [
      "nono!\n"
     ]
    }
   ],
   "source": [
    "import pickle\n",
    "with open(\"nono.pkl\", 'rb') as f:\n",
    "  data= pickle.load(f)\n",
    "print(data)"
   ]
  },
  {
   "cell_type": "code",
   "execution_count": 3,
   "id": "298c7714",
   "metadata": {},
   "outputs": [
    {
     "name": "stdout",
     "output_type": "stream",
     "text": [
      "           Date    Price     Open     High      Low      Volume  Change\n",
      "0    2020-11-05   0.1345   0.1458   0.1508   0.1262  22900000.0  -7.75%\n",
      "1    2020-11-06   0.1440   0.1345   0.1503   0.1210  15280000.0   7.06%\n",
      "2    2020-11-07   0.1408   0.1440   0.1699   0.1342   8860000.0  -2.22%\n",
      "3    2020-11-08   0.1985   0.1408   0.2420   0.1384  29090000.0  40.98%\n",
      "4    2020-11-09   0.2798   0.1985   0.3250   0.1972  32160000.0  40.96%\n",
      "..          ...      ...      ...      ...      ...         ...     ...\n",
      "407  2021-12-17  94.5500  97.9000  99.2000  91.5100    544840.0  -3.48%\n",
      "408  2021-12-18  96.2000  94.4800  97.3000  92.7500    360150.0   1.75%\n",
      "409  2021-12-19  95.2500  96.1400  98.4200  94.5600    330330.0  -0.99%\n",
      "410  2021-12-20  92.6000  95.2600  96.0300  89.5800    470100.0  -2.78%\n",
      "411  2021-12-21  96.4900  92.7800  96.8000  92.2200    685940.0   4.20%\n",
      "\n",
      "[412 rows x 7 columns]\n",
      "      Date  Price\n",
      "0    False  False\n",
      "1    False  False\n",
      "2    False  False\n",
      "3    False  False\n",
      "4    False  False\n",
      "..     ...    ...\n",
      "407  False  False\n",
      "408  False  False\n",
      "409  False  False\n",
      "410  False  False\n",
      "411  False  False\n",
      "\n",
      "[412 rows x 2 columns]\n"
     ]
    },
    {
     "name": "stderr",
     "output_type": "stream",
     "text": [
      "findfont: Font family ['Malgun Gothic'] not found. Falling back to DejaVu Sans.\n",
      "/Users/oow214/opt/anaconda3/lib/python3.9/site-packages/matplotlib/backends/backend_agg.py:240: RuntimeWarning: Glyph 47700 missing from current font.\n",
      "  font.set_text(s, 0.0, flags=flags)\n",
      "/Users/oow214/opt/anaconda3/lib/python3.9/site-packages/matplotlib/backends/backend_agg.py:240: RuntimeWarning: Glyph 53440 missing from current font.\n",
      "  font.set_text(s, 0.0, flags=flags)\n",
      "/Users/oow214/opt/anaconda3/lib/python3.9/site-packages/matplotlib/backends/backend_agg.py:240: RuntimeWarning: Glyph 48260 missing from current font.\n",
      "  font.set_text(s, 0.0, flags=flags)\n",
      "/Users/oow214/opt/anaconda3/lib/python3.9/site-packages/matplotlib/backends/backend_agg.py:240: RuntimeWarning: Glyph 49828 missing from current font.\n",
      "  font.set_text(s, 0.0, flags=flags)\n",
      "findfont: Font family ['Malgun Gothic'] not found. Falling back to DejaVu Sans.\n",
      "/Users/oow214/opt/anaconda3/lib/python3.9/site-packages/matplotlib/backends/backend_agg.py:203: RuntimeWarning: Glyph 47700 missing from current font.\n",
      "  font.set_text(s, 0, flags=flags)\n",
      "/Users/oow214/opt/anaconda3/lib/python3.9/site-packages/matplotlib/backends/backend_agg.py:203: RuntimeWarning: Glyph 53440 missing from current font.\n",
      "  font.set_text(s, 0, flags=flags)\n",
      "/Users/oow214/opt/anaconda3/lib/python3.9/site-packages/matplotlib/backends/backend_agg.py:203: RuntimeWarning: Glyph 48260 missing from current font.\n",
      "  font.set_text(s, 0, flags=flags)\n",
      "/Users/oow214/opt/anaconda3/lib/python3.9/site-packages/matplotlib/backends/backend_agg.py:203: RuntimeWarning: Glyph 49828 missing from current font.\n",
      "  font.set_text(s, 0, flags=flags)\n"
     ]
    },
    {
     "data": {
      "image/png": "[encoded data removed]",
      "text/plain": [
       "<Figure size 432x288 with 1 Axes>"
      ]
     },
     "metadata": {
      "needs_background": "light"
     },
     "output_type": "display_data"
    }
   ],
   "source": [
    "from matplotlib import font_manager, rc\n",
    "\n",
    "font_name = font_manager.FontProperties(fname=\"/Users/oow214/Downloads/맑은고딕/malgun.ttf\").get_name()\n",
    "rc('font', family=font_name)\n",
    "\n",
    "import pandas as pd\n",
    "import numpy as np\n",
    "df = pd.read_csv(\"/Users/oow214/Downloads/AXS_USD  Historical Data.csv\")\n",
    "print(df)\n",
    "df = df.iloc[:,[0,1]]\n",
    "\n",
    "import matplotlib.pyplot as plt\n",
    "x_data = pd.to_datetime(df['Date'])\n",
    "print(df.isna())\n",
    "y_data = df['Price']\n",
    "date = x_data\n",
    "plt.plot(x_data, y_data, label = \"price\", c = \"blue\")\n",
    "plt.title(\"메타버스!!\")\n",
    "plt.xlabel(\"Date\")\n",
    "plt.ylabel(\"Price\")\n",
    "plt.legend(loc='best')\n",
    "\n",
    "x_data = pd.to_numeric(x_data)\n",
    "import sklearn\n",
    "from sklearn import *\n",
    "model = sklearn.linear_model.LinearRegression()\n",
    "\n",
    "plt.show()\n",
    "\n"
   ]
  }
 ],
 "metadata": {
  "kernelspec": {
   "display_name": "Python 3 (ipykernel)",
   "language": "python",
   "name": "python3"
  },
  "language_info": {
   "codemirror_mode": {
    "name": "ipython",
    "version": 3
   },
   "file_extension": ".py",
   "mimetype": "text/x-python",
   "name": "python",
   "nbconvert_exporter": "python",
   "pygments_lexer": "ipython3",
   "version": "3.9.7"
  }
 },
 "nbformat": 4,
 "nbformat_minor": 5
}

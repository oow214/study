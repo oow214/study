{
 "cells": [
  {
   "cell_type": "markdown",
   "id": "1b8e42dd",
   "metadata": {},
   "source": [
    "# 음식점 데이터를 통해 예측, 분류, 군집화 하기"
   ]
  },
  {
   "cell_type": "code",
   "execution_count": 7,
   "id": "322d268a",
   "metadata": {
    "scrolled": true
   },
   "outputs": [
    {
     "data": {
      "text/html": [
       "<div>\n",
       "<style scoped>\n",
       "    .dataframe tbody tr th:only-of-type {\n",
       "        vertical-align: middle;\n",
       "    }\n",
       "\n",
       "    .dataframe tbody tr th {\n",
       "        vertical-align: top;\n",
       "    }\n",
       "\n",
       "    .dataframe thead th {\n",
       "        text-align: right;\n",
       "    }\n",
       "</style>\n",
       "<table border=\"1\" class=\"dataframe\">\n",
       "  <thead>\n",
       "    <tr style=\"text-align: right;\">\n",
       "      <th></th>\n",
       "      <th>crym</th>\n",
       "      <th>tco_btc_nm</th>\n",
       "      <th>ma_fem_dc</th>\n",
       "      <th>agegrp_dc</th>\n",
       "      <th>tco_btc_u_ct</th>\n",
       "      <th>tco_btc_u_am</th>\n",
       "    </tr>\n",
       "  </thead>\n",
       "  <tbody>\n",
       "    <tr>\n",
       "      <th>0</th>\n",
       "      <td>201901</td>\n",
       "      <td>한식</td>\n",
       "      <td>1</td>\n",
       "      <td>1</td>\n",
       "      <td>7</td>\n",
       "      <td>2.392000e+05</td>\n",
       "    </tr>\n",
       "    <tr>\n",
       "      <th>1</th>\n",
       "      <td>201901</td>\n",
       "      <td>한식</td>\n",
       "      <td>1</td>\n",
       "      <td>10</td>\n",
       "      <td>1618</td>\n",
       "      <td>4.671496e+07</td>\n",
       "    </tr>\n",
       "    <tr>\n",
       "      <th>2</th>\n",
       "      <td>201901</td>\n",
       "      <td>한식</td>\n",
       "      <td>1</td>\n",
       "      <td>20</td>\n",
       "      <td>150194</td>\n",
       "      <td>4.961334e+09</td>\n",
       "    </tr>\n",
       "    <tr>\n",
       "      <th>3</th>\n",
       "      <td>201901</td>\n",
       "      <td>한식</td>\n",
       "      <td>1</td>\n",
       "      <td>30</td>\n",
       "      <td>564787</td>\n",
       "      <td>2.006319e+10</td>\n",
       "    </tr>\n",
       "    <tr>\n",
       "      <th>4</th>\n",
       "      <td>201901</td>\n",
       "      <td>한식</td>\n",
       "      <td>1</td>\n",
       "      <td>40</td>\n",
       "      <td>817438</td>\n",
       "      <td>2.954471e+10</td>\n",
       "    </tr>\n",
       "    <tr>\n",
       "      <th>...</th>\n",
       "      <td>...</td>\n",
       "      <td>...</td>\n",
       "      <td>...</td>\n",
       "      <td>...</td>\n",
       "      <td>...</td>\n",
       "      <td>...</td>\n",
       "    </tr>\n",
       "    <tr>\n",
       "      <th>3776</th>\n",
       "      <td>202109</td>\n",
       "      <td>패밀리레스토랑</td>\n",
       "      <td>2</td>\n",
       "      <td>50</td>\n",
       "      <td>15439</td>\n",
       "      <td>4.351737e+08</td>\n",
       "    </tr>\n",
       "    <tr>\n",
       "      <th>3777</th>\n",
       "      <td>202109</td>\n",
       "      <td>패밀리레스토랑</td>\n",
       "      <td>2</td>\n",
       "      <td>60</td>\n",
       "      <td>4330</td>\n",
       "      <td>1.195975e+08</td>\n",
       "    </tr>\n",
       "    <tr>\n",
       "      <th>3778</th>\n",
       "      <td>202109</td>\n",
       "      <td>패밀리레스토랑</td>\n",
       "      <td>2</td>\n",
       "      <td>70</td>\n",
       "      <td>869</td>\n",
       "      <td>2.529147e+07</td>\n",
       "    </tr>\n",
       "    <tr>\n",
       "      <th>3779</th>\n",
       "      <td>202109</td>\n",
       "      <td>패밀리레스토랑</td>\n",
       "      <td>2</td>\n",
       "      <td>80</td>\n",
       "      <td>155</td>\n",
       "      <td>4.952434e+06</td>\n",
       "    </tr>\n",
       "    <tr>\n",
       "      <th>3780</th>\n",
       "      <td>202109</td>\n",
       "      <td>패밀리레스토랑</td>\n",
       "      <td>2</td>\n",
       "      <td>90</td>\n",
       "      <td>10</td>\n",
       "      <td>3.430100e+05</td>\n",
       "    </tr>\n",
       "  </tbody>\n",
       "</table>\n",
       "<p>3781 rows × 6 columns</p>\n",
       "</div>"
      ],
      "text/plain": [
       "        crym tco_btc_nm  ma_fem_dc  agegrp_dc  tco_btc_u_ct  tco_btc_u_am\n",
       "0     201901         한식          1          1             7  2.392000e+05\n",
       "1     201901         한식          1         10          1618  4.671496e+07\n",
       "2     201901         한식          1         20        150194  4.961334e+09\n",
       "3     201901         한식          1         30        564787  2.006319e+10\n",
       "4     201901         한식          1         40        817438  2.954471e+10\n",
       "...      ...        ...        ...        ...           ...           ...\n",
       "3776  202109    패밀리레스토랑          2         50         15439  4.351737e+08\n",
       "3777  202109    패밀리레스토랑          2         60          4330  1.195975e+08\n",
       "3778  202109    패밀리레스토랑          2         70           869  2.529147e+07\n",
       "3779  202109    패밀리레스토랑          2         80           155  4.952434e+06\n",
       "3780  202109    패밀리레스토랑          2         90            10  3.430100e+05\n",
       "\n",
       "[3781 rows x 6 columns]"
      ]
     },
     "execution_count": 7,
     "metadata": {},
     "output_type": "execute_result"
    }
   ],
   "source": [
    "import pandas as pd\n",
    "df = pd.read_csv(\"foodcard.csv\", encoding='utf8')  # 맥이라서 하는 인코딩..!\n",
    "df"
   ]
  },
  {
   "cell_type": "code",
   "execution_count": 8,
   "id": "295f9cde",
   "metadata": {
    "scrolled": false
   },
   "outputs": [
    {
     "data": {
      "text/plain": [
       "crym            0\n",
       "tco_btc_nm      0\n",
       "ma_fem_dc       0\n",
       "agegrp_dc       0\n",
       "tco_btc_u_ct    0\n",
       "tco_btc_u_am    0\n",
       "dtype: int64"
      ]
     },
     "execution_count": 8,
     "metadata": {},
     "output_type": "execute_result"
    }
   ],
   "source": [
    "df.isnull().sum()"
   ]
  },
  {
   "cell_type": "code",
   "execution_count": 9,
   "id": "f7ceb19c",
   "metadata": {},
   "outputs": [
    {
     "data": {
      "text/plain": [
       "array(['한식', '일식', '중식', '양식', '패스트푸드점', '패밀리레스토랑'], dtype=object)"
      ]
     },
     "execution_count": 9,
     "metadata": {},
     "output_type": "execute_result"
    }
   ],
   "source": [
    "df[\"tco_btc_nm\"].unique()"
   ]
  },
  {
   "cell_type": "code",
   "execution_count": 10,
   "id": "86840f50",
   "metadata": {
    "scrolled": false
   },
   "outputs": [
    {
     "name": "stdout",
     "output_type": "stream",
     "text": [
      "<class 'pandas.core.frame.DataFrame'>\n",
      "RangeIndex: 3781 entries, 0 to 3780\n",
      "Data columns (total 6 columns):\n",
      " #   Column        Non-Null Count  Dtype  \n",
      "---  ------        --------------  -----  \n",
      " 0   crym          3781 non-null   int64  \n",
      " 1   tco_btc_nm    3781 non-null   object \n",
      " 2   ma_fem_dc     3781 non-null   int64  \n",
      " 3   agegrp_dc     3781 non-null   int64  \n",
      " 4   tco_btc_u_ct  3781 non-null   int64  \n",
      " 5   tco_btc_u_am  3781 non-null   float64\n",
      "dtypes: float64(1), int64(4), object(1)\n",
      "memory usage: 177.4+ KB\n"
     ]
    }
   ],
   "source": [
    "df.info()"
   ]
  },
  {
   "cell_type": "code",
   "execution_count": 11,
   "id": "37de953c",
   "metadata": {
    "scrolled": false
   },
   "outputs": [
    {
     "data": {
      "text/html": [
       "<div>\n",
       "<style scoped>\n",
       "    .dataframe tbody tr th:only-of-type {\n",
       "        vertical-align: middle;\n",
       "    }\n",
       "\n",
       "    .dataframe tbody tr th {\n",
       "        vertical-align: top;\n",
       "    }\n",
       "\n",
       "    .dataframe thead th {\n",
       "        text-align: right;\n",
       "    }\n",
       "</style>\n",
       "<table border=\"1\" class=\"dataframe\">\n",
       "  <thead>\n",
       "    <tr style=\"text-align: right;\">\n",
       "      <th></th>\n",
       "      <th>crym</th>\n",
       "      <th>tco_btc_nm</th>\n",
       "      <th>ma_fem_dc</th>\n",
       "      <th>agegrp_dc</th>\n",
       "      <th>tco_btc_u_ct</th>\n",
       "      <th>tco_btc_u_am</th>\n",
       "    </tr>\n",
       "  </thead>\n",
       "  <tbody>\n",
       "    <tr>\n",
       "      <th>0</th>\n",
       "      <td>2019-01-01</td>\n",
       "      <td>한식</td>\n",
       "      <td>1</td>\n",
       "      <td>1</td>\n",
       "      <td>7</td>\n",
       "      <td>2.392000e+05</td>\n",
       "    </tr>\n",
       "    <tr>\n",
       "      <th>1</th>\n",
       "      <td>2019-01-01</td>\n",
       "      <td>한식</td>\n",
       "      <td>1</td>\n",
       "      <td>10</td>\n",
       "      <td>1618</td>\n",
       "      <td>4.671496e+07</td>\n",
       "    </tr>\n",
       "    <tr>\n",
       "      <th>2</th>\n",
       "      <td>2019-01-01</td>\n",
       "      <td>한식</td>\n",
       "      <td>1</td>\n",
       "      <td>20</td>\n",
       "      <td>150194</td>\n",
       "      <td>4.961334e+09</td>\n",
       "    </tr>\n",
       "    <tr>\n",
       "      <th>3</th>\n",
       "      <td>2019-01-01</td>\n",
       "      <td>한식</td>\n",
       "      <td>1</td>\n",
       "      <td>30</td>\n",
       "      <td>564787</td>\n",
       "      <td>2.006319e+10</td>\n",
       "    </tr>\n",
       "    <tr>\n",
       "      <th>4</th>\n",
       "      <td>2019-01-01</td>\n",
       "      <td>한식</td>\n",
       "      <td>1</td>\n",
       "      <td>40</td>\n",
       "      <td>817438</td>\n",
       "      <td>2.954471e+10</td>\n",
       "    </tr>\n",
       "    <tr>\n",
       "      <th>...</th>\n",
       "      <td>...</td>\n",
       "      <td>...</td>\n",
       "      <td>...</td>\n",
       "      <td>...</td>\n",
       "      <td>...</td>\n",
       "      <td>...</td>\n",
       "    </tr>\n",
       "    <tr>\n",
       "      <th>3776</th>\n",
       "      <td>2021-09-01</td>\n",
       "      <td>패밀리레스토랑</td>\n",
       "      <td>2</td>\n",
       "      <td>50</td>\n",
       "      <td>15439</td>\n",
       "      <td>4.351737e+08</td>\n",
       "    </tr>\n",
       "    <tr>\n",
       "      <th>3777</th>\n",
       "      <td>2021-09-01</td>\n",
       "      <td>패밀리레스토랑</td>\n",
       "      <td>2</td>\n",
       "      <td>60</td>\n",
       "      <td>4330</td>\n",
       "      <td>1.195975e+08</td>\n",
       "    </tr>\n",
       "    <tr>\n",
       "      <th>3778</th>\n",
       "      <td>2021-09-01</td>\n",
       "      <td>패밀리레스토랑</td>\n",
       "      <td>2</td>\n",
       "      <td>70</td>\n",
       "      <td>869</td>\n",
       "      <td>2.529147e+07</td>\n",
       "    </tr>\n",
       "    <tr>\n",
       "      <th>3779</th>\n",
       "      <td>2021-09-01</td>\n",
       "      <td>패밀리레스토랑</td>\n",
       "      <td>2</td>\n",
       "      <td>80</td>\n",
       "      <td>155</td>\n",
       "      <td>4.952434e+06</td>\n",
       "    </tr>\n",
       "    <tr>\n",
       "      <th>3780</th>\n",
       "      <td>2021-09-01</td>\n",
       "      <td>패밀리레스토랑</td>\n",
       "      <td>2</td>\n",
       "      <td>90</td>\n",
       "      <td>10</td>\n",
       "      <td>3.430100e+05</td>\n",
       "    </tr>\n",
       "  </tbody>\n",
       "</table>\n",
       "<p>3781 rows × 6 columns</p>\n",
       "</div>"
      ],
      "text/plain": [
       "           crym tco_btc_nm  ma_fem_dc  agegrp_dc  tco_btc_u_ct  tco_btc_u_am\n",
       "0    2019-01-01         한식          1          1             7  2.392000e+05\n",
       "1    2019-01-01         한식          1         10          1618  4.671496e+07\n",
       "2    2019-01-01         한식          1         20        150194  4.961334e+09\n",
       "3    2019-01-01         한식          1         30        564787  2.006319e+10\n",
       "4    2019-01-01         한식          1         40        817438  2.954471e+10\n",
       "...         ...        ...        ...        ...           ...           ...\n",
       "3776 2021-09-01    패밀리레스토랑          2         50         15439  4.351737e+08\n",
       "3777 2021-09-01    패밀리레스토랑          2         60          4330  1.195975e+08\n",
       "3778 2021-09-01    패밀리레스토랑          2         70           869  2.529147e+07\n",
       "3779 2021-09-01    패밀리레스토랑          2         80           155  4.952434e+06\n",
       "3780 2021-09-01    패밀리레스토랑          2         90            10  3.430100e+05\n",
       "\n",
       "[3781 rows x 6 columns]"
      ]
     },
     "execution_count": 11,
     "metadata": {},
     "output_type": "execute_result"
    }
   ],
   "source": [
    "df['crym'] = df['crym'].astype(str)\n",
    "\n",
    "df['crym'] = pd.to_datetime(df['crym'], format='%Y%m')\n",
    "df"
   ]
  },
  {
   "cell_type": "markdown",
   "id": "cd5f9030",
   "metadata": {},
   "source": [
    "# 음식점 이용 건수에 따른 이용 금액 예측하기 - LinearRegression"
   ]
  },
  {
   "cell_type": "code",
   "execution_count": 12,
   "id": "b504ed75",
   "metadata": {
    "scrolled": true
   },
   "outputs": [
    {
     "data": {
      "text/html": [
       "<div>\n",
       "<style scoped>\n",
       "    .dataframe tbody tr th:only-of-type {\n",
       "        vertical-align: middle;\n",
       "    }\n",
       "\n",
       "    .dataframe tbody tr th {\n",
       "        vertical-align: top;\n",
       "    }\n",
       "\n",
       "    .dataframe thead th {\n",
       "        text-align: right;\n",
       "    }\n",
       "</style>\n",
       "<table border=\"1\" class=\"dataframe\">\n",
       "  <thead>\n",
       "    <tr style=\"text-align: right;\">\n",
       "      <th></th>\n",
       "      <th>crym</th>\n",
       "      <th>tco_btc_u_ct</th>\n",
       "      <th>tco_btc_u_am</th>\n",
       "    </tr>\n",
       "  </thead>\n",
       "  <tbody>\n",
       "    <tr>\n",
       "      <th>0</th>\n",
       "      <td>2019-01-01</td>\n",
       "      <td>7</td>\n",
       "      <td>2.392000e+05</td>\n",
       "    </tr>\n",
       "    <tr>\n",
       "      <th>1</th>\n",
       "      <td>2019-01-01</td>\n",
       "      <td>1618</td>\n",
       "      <td>4.671496e+07</td>\n",
       "    </tr>\n",
       "    <tr>\n",
       "      <th>2</th>\n",
       "      <td>2019-01-01</td>\n",
       "      <td>150194</td>\n",
       "      <td>4.961334e+09</td>\n",
       "    </tr>\n",
       "    <tr>\n",
       "      <th>3</th>\n",
       "      <td>2019-01-01</td>\n",
       "      <td>564787</td>\n",
       "      <td>2.006319e+10</td>\n",
       "    </tr>\n",
       "    <tr>\n",
       "      <th>4</th>\n",
       "      <td>2019-01-01</td>\n",
       "      <td>817438</td>\n",
       "      <td>2.954471e+10</td>\n",
       "    </tr>\n",
       "    <tr>\n",
       "      <th>...</th>\n",
       "      <td>...</td>\n",
       "      <td>...</td>\n",
       "      <td>...</td>\n",
       "    </tr>\n",
       "    <tr>\n",
       "      <th>3776</th>\n",
       "      <td>2021-09-01</td>\n",
       "      <td>15439</td>\n",
       "      <td>4.351737e+08</td>\n",
       "    </tr>\n",
       "    <tr>\n",
       "      <th>3777</th>\n",
       "      <td>2021-09-01</td>\n",
       "      <td>4330</td>\n",
       "      <td>1.195975e+08</td>\n",
       "    </tr>\n",
       "    <tr>\n",
       "      <th>3778</th>\n",
       "      <td>2021-09-01</td>\n",
       "      <td>869</td>\n",
       "      <td>2.529147e+07</td>\n",
       "    </tr>\n",
       "    <tr>\n",
       "      <th>3779</th>\n",
       "      <td>2021-09-01</td>\n",
       "      <td>155</td>\n",
       "      <td>4.952434e+06</td>\n",
       "    </tr>\n",
       "    <tr>\n",
       "      <th>3780</th>\n",
       "      <td>2021-09-01</td>\n",
       "      <td>10</td>\n",
       "      <td>3.430100e+05</td>\n",
       "    </tr>\n",
       "  </tbody>\n",
       "</table>\n",
       "<p>3781 rows × 3 columns</p>\n",
       "</div>"
      ],
      "text/plain": [
       "           crym  tco_btc_u_ct  tco_btc_u_am\n",
       "0    2019-01-01             7  2.392000e+05\n",
       "1    2019-01-01          1618  4.671496e+07\n",
       "2    2019-01-01        150194  4.961334e+09\n",
       "3    2019-01-01        564787  2.006319e+10\n",
       "4    2019-01-01        817438  2.954471e+10\n",
       "...         ...           ...           ...\n",
       "3776 2021-09-01         15439  4.351737e+08\n",
       "3777 2021-09-01          4330  1.195975e+08\n",
       "3778 2021-09-01           869  2.529147e+07\n",
       "3779 2021-09-01           155  4.952434e+06\n",
       "3780 2021-09-01            10  3.430100e+05\n",
       "\n",
       "[3781 rows x 3 columns]"
      ]
     },
     "execution_count": 12,
     "metadata": {},
     "output_type": "execute_result"
    }
   ],
   "source": [
    "tco_df = df[[\"crym\",\"tco_btc_u_ct\", \"tco_btc_u_am\"]]\n",
    "tco_df"
   ]
  },
  {
   "cell_type": "code",
   "execution_count": 13,
   "id": "fdbdbae7",
   "metadata": {
    "scrolled": true
   },
   "outputs": [
    {
     "data": {
      "text/html": [
       "<div>\n",
       "<style scoped>\n",
       "    .dataframe tbody tr th:only-of-type {\n",
       "        vertical-align: middle;\n",
       "    }\n",
       "\n",
       "    .dataframe tbody tr th {\n",
       "        vertical-align: top;\n",
       "    }\n",
       "\n",
       "    .dataframe thead th {\n",
       "        text-align: right;\n",
       "    }\n",
       "</style>\n",
       "<table border=\"1\" class=\"dataframe\">\n",
       "  <thead>\n",
       "    <tr style=\"text-align: right;\">\n",
       "      <th></th>\n",
       "      <th>tco_btc_u_ct</th>\n",
       "      <th>tco_btc_u_am</th>\n",
       "    </tr>\n",
       "    <tr>\n",
       "      <th>crym</th>\n",
       "      <th></th>\n",
       "      <th></th>\n",
       "    </tr>\n",
       "  </thead>\n",
       "  <tbody>\n",
       "    <tr>\n",
       "      <th>2019-01-01</th>\n",
       "      <td>7635701</td>\n",
       "      <td>2.335036e+11</td>\n",
       "    </tr>\n",
       "    <tr>\n",
       "      <th>2019-02-01</th>\n",
       "      <td>6718594</td>\n",
       "      <td>2.082875e+11</td>\n",
       "    </tr>\n",
       "    <tr>\n",
       "      <th>2019-03-01</th>\n",
       "      <td>8159189</td>\n",
       "      <td>2.466039e+11</td>\n",
       "    </tr>\n",
       "    <tr>\n",
       "      <th>2019-04-01</th>\n",
       "      <td>8247496</td>\n",
       "      <td>2.435679e+11</td>\n",
       "    </tr>\n",
       "    <tr>\n",
       "      <th>2019-05-01</th>\n",
       "      <td>9019183</td>\n",
       "      <td>2.740720e+11</td>\n",
       "    </tr>\n",
       "    <tr>\n",
       "      <th>2019-06-01</th>\n",
       "      <td>8902624</td>\n",
       "      <td>2.626318e+11</td>\n",
       "    </tr>\n",
       "    <tr>\n",
       "      <th>2019-07-01</th>\n",
       "      <td>9342597</td>\n",
       "      <td>2.759589e+11</td>\n",
       "    </tr>\n",
       "    <tr>\n",
       "      <th>2019-08-01</th>\n",
       "      <td>9748610</td>\n",
       "      <td>2.908411e+11</td>\n",
       "    </tr>\n",
       "    <tr>\n",
       "      <th>2019-09-01</th>\n",
       "      <td>8486843</td>\n",
       "      <td>2.477988e+11</td>\n",
       "    </tr>\n",
       "    <tr>\n",
       "      <th>2019-10-01</th>\n",
       "      <td>9655489</td>\n",
       "      <td>2.808602e+11</td>\n",
       "    </tr>\n",
       "    <tr>\n",
       "      <th>2019-11-01</th>\n",
       "      <td>9078473</td>\n",
       "      <td>2.689078e+11</td>\n",
       "    </tr>\n",
       "    <tr>\n",
       "      <th>2019-12-01</th>\n",
       "      <td>9445633</td>\n",
       "      <td>3.056871e+11</td>\n",
       "    </tr>\n",
       "    <tr>\n",
       "      <th>2020-01-01</th>\n",
       "      <td>8700533</td>\n",
       "      <td>2.679888e+11</td>\n",
       "    </tr>\n",
       "    <tr>\n",
       "      <th>2020-02-01</th>\n",
       "      <td>7246838</td>\n",
       "      <td>2.130873e+11</td>\n",
       "    </tr>\n",
       "    <tr>\n",
       "      <th>2020-03-01</th>\n",
       "      <td>6815530</td>\n",
       "      <td>1.909038e+11</td>\n",
       "    </tr>\n",
       "    <tr>\n",
       "      <th>2020-04-01</th>\n",
       "      <td>7590833</td>\n",
       "      <td>2.201387e+11</td>\n",
       "    </tr>\n",
       "    <tr>\n",
       "      <th>2020-05-01</th>\n",
       "      <td>8302351</td>\n",
       "      <td>2.623998e+11</td>\n",
       "    </tr>\n",
       "    <tr>\n",
       "      <th>2020-06-01</th>\n",
       "      <td>7958966</td>\n",
       "      <td>2.347256e+11</td>\n",
       "    </tr>\n",
       "    <tr>\n",
       "      <th>2020-07-01</th>\n",
       "      <td>8474046</td>\n",
       "      <td>2.555737e+11</td>\n",
       "    </tr>\n",
       "    <tr>\n",
       "      <th>2020-08-01</th>\n",
       "      <td>8401224</td>\n",
       "      <td>2.572021e+11</td>\n",
       "    </tr>\n",
       "    <tr>\n",
       "      <th>2020-09-01</th>\n",
       "      <td>7084619</td>\n",
       "      <td>1.995620e+11</td>\n",
       "    </tr>\n",
       "    <tr>\n",
       "      <th>2020-10-01</th>\n",
       "      <td>7826526</td>\n",
       "      <td>2.357306e+11</td>\n",
       "    </tr>\n",
       "    <tr>\n",
       "      <th>2020-11-01</th>\n",
       "      <td>7566795</td>\n",
       "      <td>2.283102e+11</td>\n",
       "    </tr>\n",
       "    <tr>\n",
       "      <th>2020-12-01</th>\n",
       "      <td>5942651</td>\n",
       "      <td>1.618190e+11</td>\n",
       "    </tr>\n",
       "    <tr>\n",
       "      <th>2021-01-01</th>\n",
       "      <td>5947460</td>\n",
       "      <td>1.643298e+11</td>\n",
       "    </tr>\n",
       "    <tr>\n",
       "      <th>2021-02-01</th>\n",
       "      <td>5795538</td>\n",
       "      <td>1.678081e+11</td>\n",
       "    </tr>\n",
       "    <tr>\n",
       "      <th>2021-03-01</th>\n",
       "      <td>7277347</td>\n",
       "      <td>2.141134e+11</td>\n",
       "    </tr>\n",
       "    <tr>\n",
       "      <th>2021-04-01</th>\n",
       "      <td>7378403</td>\n",
       "      <td>2.134914e+11</td>\n",
       "    </tr>\n",
       "    <tr>\n",
       "      <th>2021-05-01</th>\n",
       "      <td>7875779</td>\n",
       "      <td>2.414534e+11</td>\n",
       "    </tr>\n",
       "    <tr>\n",
       "      <th>2021-06-01</th>\n",
       "      <td>7665234</td>\n",
       "      <td>2.261107e+11</td>\n",
       "    </tr>\n",
       "    <tr>\n",
       "      <th>2021-07-01</th>\n",
       "      <td>7224984</td>\n",
       "      <td>2.097315e+11</td>\n",
       "    </tr>\n",
       "    <tr>\n",
       "      <th>2021-08-01</th>\n",
       "      <td>7549184</td>\n",
       "      <td>2.146314e+11</td>\n",
       "    </tr>\n",
       "    <tr>\n",
       "      <th>2021-09-01</th>\n",
       "      <td>6584684</td>\n",
       "      <td>1.913085e+11</td>\n",
       "    </tr>\n",
       "  </tbody>\n",
       "</table>\n",
       "</div>"
      ],
      "text/plain": [
       "            tco_btc_u_ct  tco_btc_u_am\n",
       "crym                                  \n",
       "2019-01-01       7635701  2.335036e+11\n",
       "2019-02-01       6718594  2.082875e+11\n",
       "2019-03-01       8159189  2.466039e+11\n",
       "2019-04-01       8247496  2.435679e+11\n",
       "2019-05-01       9019183  2.740720e+11\n",
       "2019-06-01       8902624  2.626318e+11\n",
       "2019-07-01       9342597  2.759589e+11\n",
       "2019-08-01       9748610  2.908411e+11\n",
       "2019-09-01       8486843  2.477988e+11\n",
       "2019-10-01       9655489  2.808602e+11\n",
       "2019-11-01       9078473  2.689078e+11\n",
       "2019-12-01       9445633  3.056871e+11\n",
       "2020-01-01       8700533  2.679888e+11\n",
       "2020-02-01       7246838  2.130873e+11\n",
       "2020-03-01       6815530  1.909038e+11\n",
       "2020-04-01       7590833  2.201387e+11\n",
       "2020-05-01       8302351  2.623998e+11\n",
       "2020-06-01       7958966  2.347256e+11\n",
       "2020-07-01       8474046  2.555737e+11\n",
       "2020-08-01       8401224  2.572021e+11\n",
       "2020-09-01       7084619  1.995620e+11\n",
       "2020-10-01       7826526  2.357306e+11\n",
       "2020-11-01       7566795  2.283102e+11\n",
       "2020-12-01       5942651  1.618190e+11\n",
       "2021-01-01       5947460  1.643298e+11\n",
       "2021-02-01       5795538  1.678081e+11\n",
       "2021-03-01       7277347  2.141134e+11\n",
       "2021-04-01       7378403  2.134914e+11\n",
       "2021-05-01       7875779  2.414534e+11\n",
       "2021-06-01       7665234  2.261107e+11\n",
       "2021-07-01       7224984  2.097315e+11\n",
       "2021-08-01       7549184  2.146314e+11\n",
       "2021-09-01       6584684  1.913085e+11"
      ]
     },
     "execution_count": 13,
     "metadata": {},
     "output_type": "execute_result"
    }
   ],
   "source": [
    "tco_df = tco_df.groupby(['crym']).sum()\n",
    "tco_df"
   ]
  },
  {
   "cell_type": "code",
   "execution_count": 14,
   "id": "c285ae01",
   "metadata": {
    "scrolled": true
   },
   "outputs": [
    {
     "data": {
      "text/plain": [
       "Text(0, 0.5, 'tco_btc_u_am')"
      ]
     },
     "execution_count": 14,
     "metadata": {},
     "output_type": "execute_result"
    },
    {
     "data": {
      "image/png": "[encoded data removed]",
      "text/plain": [
       "<Figure size 432x288 with 1 Axes>"
      ]
     },
     "metadata": {
      "needs_background": "light"
     },
     "output_type": "display_data"
    }
   ],
   "source": [
    "import numpy as np\n",
    "\n",
    "tco_btc_u_ct = np.array(tco_df['tco_btc_u_ct']) # 이용 건수\n",
    "tco_btc_u_am = np.array(tco_df['tco_btc_u_am']) # 이용 금액\n",
    "\n",
    "tco_btc_u_ct = (tco_btc_u_ct.reshape(-1,1))\n",
    "tco_btc_u_am = (tco_btc_u_am.reshape(-1,1))\n",
    "\n",
    "import matplotlib.pyplot as plt\n",
    "plt.scatter(tco_btc_u_ct, tco_btc_u_am)\n",
    "plt.xlabel(\"tco_btc_u_ct\")\n",
    "plt.ylabel(\"tco_btc_u_am\")"
   ]
  },
  {
   "cell_type": "code",
   "execution_count": 18,
   "id": "5bd174ca",
   "metadata": {
    "scrolled": true
   },
   "outputs": [
    {
     "name": "stdout",
     "output_type": "stream",
     "text": [
      "0.9604176462933929\n",
      "254428912960\n",
      "계수 [[33650.98637757]]\n",
      "절편 [-3.11617252e+10]\n"
     ]
    },
    {
     "data": {
      "text/plain": [
       "[<matplotlib.lines.Line2D at 0x7fdf280effa0>]"
      ]
     },
     "execution_count": 18,
     "metadata": {},
     "output_type": "execute_result"
    },
    {
     "data": {
      "image/png": "[encoded data removed]",
      "text/plain": [
       "<Figure size 432x288 with 1 Axes>"
      ]
     },
     "metadata": {
      "needs_background": "light"
     },
     "output_type": "display_data"
    }
   ],
   "source": [
    "import sklearn\n",
    "from sklearn import *\n",
    "x_train,x_test,y_train,y_test= sklearn.model_selection.train_test_split(tco_btc_u_ct,tco_btc_u_am,test_size=0.2, shuffle=True, random_state=0)\n",
    "model = sklearn.linear_model.LinearRegression()\n",
    "model.fit(tco_btc_u_ct,tco_btc_u_am)\n",
    "print(model.score(tco_btc_u_ct, tco_btc_u_am))\n",
    "\n",
    "x_test = np.array([[8486843]],dtype = int)\n",
    "print(int(model.predict(x_test))) # 2.477988e+11\n",
    "\n",
    "pred = (model.coef_ * tco_btc_u_ct + (model.intercept_))\n",
    "print(\"계수\", model.coef_)\n",
    "print(\"절편\", model.intercept_)\n",
    "\n",
    "plt.scatter(tco_btc_u_ct, tco_btc_u_am)\n",
    "plt.plot(tco_btc_u_ct, pred)"
   ]
  },
  {
   "cell_type": "markdown",
   "id": "5323cab9",
   "metadata": {},
   "source": [
    "# 남성, 여성 선호 음식점 분류 - DecisionTreeClassifier ( 점수 낮지만..! )"
   ]
  },
  {
   "cell_type": "code",
   "execution_count": 226,
   "id": "cba80784",
   "metadata": {},
   "outputs": [
    {
     "data": {
      "text/html": [
       "<div>\n",
       "<style scoped>\n",
       "    .dataframe tbody tr th:only-of-type {\n",
       "        vertical-align: middle;\n",
       "    }\n",
       "\n",
       "    .dataframe tbody tr th {\n",
       "        vertical-align: top;\n",
       "    }\n",
       "\n",
       "    .dataframe thead th {\n",
       "        text-align: right;\n",
       "    }\n",
       "</style>\n",
       "<table border=\"1\" class=\"dataframe\">\n",
       "  <thead>\n",
       "    <tr style=\"text-align: right;\">\n",
       "      <th></th>\n",
       "      <th>crym</th>\n",
       "      <th>tco_btc_nm</th>\n",
       "      <th>ma_fem_dc</th>\n",
       "      <th>agegrp_dc</th>\n",
       "      <th>tco_btc_u_ct</th>\n",
       "      <th>tco_btc_u_am</th>\n",
       "    </tr>\n",
       "  </thead>\n",
       "  <tbody>\n",
       "    <tr>\n",
       "      <th>0</th>\n",
       "      <td>201901</td>\n",
       "      <td>한식</td>\n",
       "      <td>1</td>\n",
       "      <td>1</td>\n",
       "      <td>7</td>\n",
       "      <td>2.392000e+05</td>\n",
       "    </tr>\n",
       "    <tr>\n",
       "      <th>1</th>\n",
       "      <td>201901</td>\n",
       "      <td>한식</td>\n",
       "      <td>1</td>\n",
       "      <td>10</td>\n",
       "      <td>1618</td>\n",
       "      <td>4.671496e+07</td>\n",
       "    </tr>\n",
       "    <tr>\n",
       "      <th>2</th>\n",
       "      <td>201901</td>\n",
       "      <td>한식</td>\n",
       "      <td>1</td>\n",
       "      <td>20</td>\n",
       "      <td>150194</td>\n",
       "      <td>4.961334e+09</td>\n",
       "    </tr>\n",
       "    <tr>\n",
       "      <th>3</th>\n",
       "      <td>201901</td>\n",
       "      <td>한식</td>\n",
       "      <td>1</td>\n",
       "      <td>30</td>\n",
       "      <td>564787</td>\n",
       "      <td>2.006319e+10</td>\n",
       "    </tr>\n",
       "    <tr>\n",
       "      <th>4</th>\n",
       "      <td>201901</td>\n",
       "      <td>한식</td>\n",
       "      <td>1</td>\n",
       "      <td>40</td>\n",
       "      <td>817438</td>\n",
       "      <td>2.954471e+10</td>\n",
       "    </tr>\n",
       "    <tr>\n",
       "      <th>...</th>\n",
       "      <td>...</td>\n",
       "      <td>...</td>\n",
       "      <td>...</td>\n",
       "      <td>...</td>\n",
       "      <td>...</td>\n",
       "      <td>...</td>\n",
       "    </tr>\n",
       "    <tr>\n",
       "      <th>3776</th>\n",
       "      <td>202109</td>\n",
       "      <td>패밀리레스토랑</td>\n",
       "      <td>2</td>\n",
       "      <td>50</td>\n",
       "      <td>15439</td>\n",
       "      <td>4.351737e+08</td>\n",
       "    </tr>\n",
       "    <tr>\n",
       "      <th>3777</th>\n",
       "      <td>202109</td>\n",
       "      <td>패밀리레스토랑</td>\n",
       "      <td>2</td>\n",
       "      <td>60</td>\n",
       "      <td>4330</td>\n",
       "      <td>1.195975e+08</td>\n",
       "    </tr>\n",
       "    <tr>\n",
       "      <th>3778</th>\n",
       "      <td>202109</td>\n",
       "      <td>패밀리레스토랑</td>\n",
       "      <td>2</td>\n",
       "      <td>70</td>\n",
       "      <td>869</td>\n",
       "      <td>2.529147e+07</td>\n",
       "    </tr>\n",
       "    <tr>\n",
       "      <th>3779</th>\n",
       "      <td>202109</td>\n",
       "      <td>패밀리레스토랑</td>\n",
       "      <td>2</td>\n",
       "      <td>80</td>\n",
       "      <td>155</td>\n",
       "      <td>4.952434e+06</td>\n",
       "    </tr>\n",
       "    <tr>\n",
       "      <th>3780</th>\n",
       "      <td>202109</td>\n",
       "      <td>패밀리레스토랑</td>\n",
       "      <td>2</td>\n",
       "      <td>90</td>\n",
       "      <td>10</td>\n",
       "      <td>3.430100e+05</td>\n",
       "    </tr>\n",
       "  </tbody>\n",
       "</table>\n",
       "<p>3781 rows × 6 columns</p>\n",
       "</div>"
      ],
      "text/plain": [
       "        crym tco_btc_nm  ma_fem_dc  agegrp_dc  tco_btc_u_ct  tco_btc_u_am\n",
       "0     201901         한식          1          1             7  2.392000e+05\n",
       "1     201901         한식          1         10          1618  4.671496e+07\n",
       "2     201901         한식          1         20        150194  4.961334e+09\n",
       "3     201901         한식          1         30        564787  2.006319e+10\n",
       "4     201901         한식          1         40        817438  2.954471e+10\n",
       "...      ...        ...        ...        ...           ...           ...\n",
       "3776  202109    패밀리레스토랑          2         50         15439  4.351737e+08\n",
       "3777  202109    패밀리레스토랑          2         60          4330  1.195975e+08\n",
       "3778  202109    패밀리레스토랑          2         70           869  2.529147e+07\n",
       "3779  202109    패밀리레스토랑          2         80           155  4.952434e+06\n",
       "3780  202109    패밀리레스토랑          2         90            10  3.430100e+05\n",
       "\n",
       "[3781 rows x 6 columns]"
      ]
     },
     "execution_count": 226,
     "metadata": {},
     "output_type": "execute_result"
    }
   ],
   "source": [
    "import pandas as pd\n",
    "df = pd.read_csv(\"foodcard.csv\", encoding='cp949')  # 맥이라서 하는 인코딩..!\n",
    "df"
   ]
  },
  {
   "cell_type": "code",
   "execution_count": 198,
   "id": "47e959b1",
   "metadata": {
    "scrolled": false
   },
   "outputs": [
    {
     "name": "stdout",
     "output_type": "stream",
     "text": [
      "<class 'pandas.core.frame.DataFrame'>\n",
      "RangeIndex: 3781 entries, 0 to 3780\n",
      "Data columns (total 6 columns):\n",
      " #   Column        Non-Null Count  Dtype         \n",
      "---  ------        --------------  -----         \n",
      " 0   crym          3781 non-null   datetime64[ns]\n",
      " 1   tco_btc_nm    3781 non-null   object        \n",
      " 2   ma_fem_dc     3781 non-null   int64         \n",
      " 3   agegrp_dc     3781 non-null   int64         \n",
      " 4   tco_btc_u_ct  3781 non-null   int64         \n",
      " 5   tco_btc_u_am  3781 non-null   float64       \n",
      "dtypes: datetime64[ns](1), float64(1), int64(3), object(1)\n",
      "memory usage: 177.4+ KB\n"
     ]
    }
   ],
   "source": [
    "df.info()"
   ]
  },
  {
   "cell_type": "code",
   "execution_count": 221,
   "id": "939db41d",
   "metadata": {
    "scrolled": true
   },
   "outputs": [
    {
     "name": "stdout",
     "output_type": "stream",
     "text": [
      "['한식' '일식' '중식' '양식' '패스트푸드점' '패밀리레스토랑']\n"
     ]
    },
    {
     "data": {
      "text/plain": [
       "['Korean', 'Japanese', 'Chinese', 'Western', 'Fastfood', 'restaurant']"
      ]
     },
     "execution_count": 221,
     "metadata": {},
     "output_type": "execute_result"
    }
   ],
   "source": [
    "print(df['tco_btc_nm'].unique())\n",
    "foodlabel = ['Korean', 'Japanese', 'Chinese', 'Western', 'Fastfood', 'restaurant']\n",
    "foodlabel"
   ]
  },
  {
   "cell_type": "code",
   "execution_count": 210,
   "id": "9fdc544a",
   "metadata": {
    "scrolled": false
   },
   "outputs": [
    {
     "data": {
      "text/plain": [
       "0       0\n",
       "1       0\n",
       "2       0\n",
       "3       0\n",
       "4       0\n",
       "       ..\n",
       "3776    5\n",
       "3777    5\n",
       "3778    5\n",
       "3779    5\n",
       "3780    5\n",
       "Name: tco_btc_nm, Length: 3781, dtype: int64"
      ]
     },
     "execution_count": 210,
     "metadata": {},
     "output_type": "execute_result"
    }
   ],
   "source": [
    "df[\"tco_btc_nm\"] = df[\"tco_btc_nm\"].map({\"한식\":0, \"일식\":1,\"중식\":2, \"양식\": 3, \"패스트푸드점\": 4, '패밀리레스토랑': 5})  \n",
    "\n",
    "df[\"tco_btc_nm\"]"
   ]
  },
  {
   "cell_type": "code",
   "execution_count": 211,
   "id": "58dbd193",
   "metadata": {},
   "outputs": [],
   "source": [
    "tco_btc_nm = np.array(df['tco_btc_nm']) # 음식점 종류\n",
    "ma_fem_dc = np.array(df['ma_fem_dc']) # 성별\n",
    "\n",
    "tco_btc_nm = (tco_btc_nm.reshape(-1,1))\n",
    "ma_fem_dc = (ma_fem_dc.reshape(-1,1))"
   ]
  },
  {
   "cell_type": "code",
   "execution_count": 264,
   "id": "c02116c9",
   "metadata": {
    "scrolled": false
   },
   "outputs": [
    {
     "name": "stdout",
     "output_type": "stream",
     "text": [
      "예측 결과 (남성 선호 음식점 1, 여성 선호 음식점 2) : [1 1 1 ... 2 2 2]\n",
      "분류 정확도 :  0.5054218460724677\n",
      "음식점이 :  [1 2]\n"
     ]
    },
    {
     "data": {
      "text/plain": [
       "([<matplotlib.axis.YTick at 0x7ff764466880>,\n",
       "  <matplotlib.axis.YTick at 0x7ff764466100>],\n",
       " [Text(0, 1, 'male'), Text(0, 2, 'female')])"
      ]
     },
     "execution_count": 264,
     "metadata": {},
     "output_type": "execute_result"
    },
    {
     "data": {
      "image/png": "[encoded data removed]",
      "text/plain": [
       "<Figure size 432x288 with 1 Axes>"
      ]
     },
     "metadata": {
      "needs_background": "light"
     },
     "output_type": "display_data"
    }
   ],
   "source": [
    "import sklearn\n",
    "from sklearn import *\n",
    "model= sklearn.tree.DecisionTreeClassifier(max_depth=10,random_state=0)\n",
    "model.fit(tco_btc_nm, ma_fem_dc)\n",
    "pred = model.predict(tco_btc_nm)\n",
    "print(\"분류 정확도 : \", sklearn.metrics.accuracy_score(ma_fem_dc, pred))\n",
    "print(\"예측 결과 (남성 선호 음식점 1, 여성 선호 음식점 2) :\", pred)\n",
    "x_test = np.array([[0],[5]],dtype = int)\n",
    "print(\"음식점이 : \", model.predict(x_test))\n",
    "\n",
    "plt.scatter(tco_btc_nm, ma_fem_dc)\n",
    "plt.scatter(tco_btc_nm, pred)\n",
    "plt.xticks([0, 1, 2, 3, 4, 5],foodlabel) # 이름 설정\n",
    "plt.yticks([1, 2], ['male', 'female'])"
   ]
  },
  {
   "cell_type": "markdown",
   "id": "7026a39b",
   "metadata": {},
   "source": [
    "# 군집화 - 음식점과 이용금액...?"
   ]
  },
  {
   "cell_type": "code",
   "execution_count": 231,
   "id": "3b3eddad",
   "metadata": {},
   "outputs": [
    {
     "data": {
      "text/html": [
       "<div>\n",
       "<style scoped>\n",
       "    .dataframe tbody tr th:only-of-type {\n",
       "        vertical-align: middle;\n",
       "    }\n",
       "\n",
       "    .dataframe tbody tr th {\n",
       "        vertical-align: top;\n",
       "    }\n",
       "\n",
       "    .dataframe thead th {\n",
       "        text-align: right;\n",
       "    }\n",
       "</style>\n",
       "<table border=\"1\" class=\"dataframe\">\n",
       "  <thead>\n",
       "    <tr style=\"text-align: right;\">\n",
       "      <th></th>\n",
       "      <th>crym</th>\n",
       "      <th>tco_btc_nm</th>\n",
       "      <th>ma_fem_dc</th>\n",
       "      <th>agegrp_dc</th>\n",
       "      <th>tco_btc_u_ct</th>\n",
       "      <th>tco_btc_u_am</th>\n",
       "    </tr>\n",
       "  </thead>\n",
       "  <tbody>\n",
       "    <tr>\n",
       "      <th>0</th>\n",
       "      <td>201901</td>\n",
       "      <td>0</td>\n",
       "      <td>1</td>\n",
       "      <td>1</td>\n",
       "      <td>7</td>\n",
       "      <td>2.392000e+05</td>\n",
       "    </tr>\n",
       "    <tr>\n",
       "      <th>1</th>\n",
       "      <td>201901</td>\n",
       "      <td>0</td>\n",
       "      <td>1</td>\n",
       "      <td>10</td>\n",
       "      <td>1618</td>\n",
       "      <td>4.671496e+07</td>\n",
       "    </tr>\n",
       "    <tr>\n",
       "      <th>2</th>\n",
       "      <td>201901</td>\n",
       "      <td>0</td>\n",
       "      <td>1</td>\n",
       "      <td>20</td>\n",
       "      <td>150194</td>\n",
       "      <td>4.961334e+09</td>\n",
       "    </tr>\n",
       "    <tr>\n",
       "      <th>3</th>\n",
       "      <td>201901</td>\n",
       "      <td>0</td>\n",
       "      <td>1</td>\n",
       "      <td>30</td>\n",
       "      <td>564787</td>\n",
       "      <td>2.006319e+10</td>\n",
       "    </tr>\n",
       "    <tr>\n",
       "      <th>4</th>\n",
       "      <td>201901</td>\n",
       "      <td>0</td>\n",
       "      <td>1</td>\n",
       "      <td>40</td>\n",
       "      <td>817438</td>\n",
       "      <td>2.954471e+10</td>\n",
       "    </tr>\n",
       "    <tr>\n",
       "      <th>...</th>\n",
       "      <td>...</td>\n",
       "      <td>...</td>\n",
       "      <td>...</td>\n",
       "      <td>...</td>\n",
       "      <td>...</td>\n",
       "      <td>...</td>\n",
       "    </tr>\n",
       "    <tr>\n",
       "      <th>3776</th>\n",
       "      <td>202109</td>\n",
       "      <td>5</td>\n",
       "      <td>2</td>\n",
       "      <td>50</td>\n",
       "      <td>15439</td>\n",
       "      <td>4.351737e+08</td>\n",
       "    </tr>\n",
       "    <tr>\n",
       "      <th>3777</th>\n",
       "      <td>202109</td>\n",
       "      <td>5</td>\n",
       "      <td>2</td>\n",
       "      <td>60</td>\n",
       "      <td>4330</td>\n",
       "      <td>1.195975e+08</td>\n",
       "    </tr>\n",
       "    <tr>\n",
       "      <th>3778</th>\n",
       "      <td>202109</td>\n",
       "      <td>5</td>\n",
       "      <td>2</td>\n",
       "      <td>70</td>\n",
       "      <td>869</td>\n",
       "      <td>2.529147e+07</td>\n",
       "    </tr>\n",
       "    <tr>\n",
       "      <th>3779</th>\n",
       "      <td>202109</td>\n",
       "      <td>5</td>\n",
       "      <td>2</td>\n",
       "      <td>80</td>\n",
       "      <td>155</td>\n",
       "      <td>4.952434e+06</td>\n",
       "    </tr>\n",
       "    <tr>\n",
       "      <th>3780</th>\n",
       "      <td>202109</td>\n",
       "      <td>5</td>\n",
       "      <td>2</td>\n",
       "      <td>90</td>\n",
       "      <td>10</td>\n",
       "      <td>3.430100e+05</td>\n",
       "    </tr>\n",
       "  </tbody>\n",
       "</table>\n",
       "<p>3781 rows × 6 columns</p>\n",
       "</div>"
      ],
      "text/plain": [
       "        crym  tco_btc_nm  ma_fem_dc  agegrp_dc  tco_btc_u_ct  tco_btc_u_am\n",
       "0     201901           0          1          1             7  2.392000e+05\n",
       "1     201901           0          1         10          1618  4.671496e+07\n",
       "2     201901           0          1         20        150194  4.961334e+09\n",
       "3     201901           0          1         30        564787  2.006319e+10\n",
       "4     201901           0          1         40        817438  2.954471e+10\n",
       "...      ...         ...        ...        ...           ...           ...\n",
       "3776  202109           5          2         50         15439  4.351737e+08\n",
       "3777  202109           5          2         60          4330  1.195975e+08\n",
       "3778  202109           5          2         70           869  2.529147e+07\n",
       "3779  202109           5          2         80           155  4.952434e+06\n",
       "3780  202109           5          2         90            10  3.430100e+05\n",
       "\n",
       "[3781 rows x 6 columns]"
      ]
     },
     "execution_count": 231,
     "metadata": {},
     "output_type": "execute_result"
    }
   ],
   "source": [
    "import pandas as pd\n",
    "df = pd.read_csv(\"foodcard.csv\", encoding='cp949')  # 맥이라서 하는 인코딩..!\n",
    "df[\"tco_btc_nm\"] = df[\"tco_btc_nm\"].map({\"한식\":0, \"일식\":1,\"중식\":2, \"양식\": 3, \"패스트푸드점\": 4, '패밀리레스토랑': 5})  \n",
    "\n",
    "df"
   ]
  },
  {
   "cell_type": "code",
   "execution_count": 272,
   "id": "9648741d",
   "metadata": {
    "scrolled": true
   },
   "outputs": [
    {
     "name": "stdout",
     "output_type": "stream",
     "text": [
      "[0 0 0 ... 0 0 0]\n",
      "응집도 추출:  1.7132514460100985e+22\n"
     ]
    },
    {
     "data": {
      "text/plain": [
       "Text(0, 0.5, 'pca_y')"
      ]
     },
     "execution_count": 272,
     "metadata": {},
     "output_type": "execute_result"
    },
    {
     "data": {
      "image/png": "[encoded data removed]",
      "text/plain": [
       "<Figure size 576x288 with 1 Axes>"
      ]
     },
     "metadata": {
      "needs_background": "light"
     },
     "output_type": "display_data"
    },
    {
     "data": {
      "image/png": "[encoded data removed]",
      "text/plain": [
       "<Figure size 576x288 with 1 Axes>"
      ]
     },
     "metadata": {
      "needs_background": "light"
     },
     "output_type": "display_data"
    }
   ],
   "source": [
    "from sklearn.cluster import KMeans\n",
    "from sklearn.decomposition import PCA\n",
    "import matplotlib.pyplot as plt\n",
    "\n",
    "############ 군집화\n",
    "\n",
    "# k값 구하기\n",
    "ks = range(1, 10)\n",
    "intertias = []\n",
    "for k in ks:\n",
    "    model = KMeans(n_clusters=k, n_init=5)\n",
    "    model.fit(df)\n",
    "    intertias.append(model.inertia_)\n",
    "\n",
    "# # k값 찾기 그래프 엘보우플롯?\n",
    "plt.figure(figsize=(8, 4))\n",
    "plt.plot(ks, intertias, '-o')\n",
    "plt.title('Elbow Method')\n",
    "plt.xlabel('1 to 10')\n",
    "plt.ylabel('intertias')\n",
    "\n",
    "# 차원 축소\n",
    "pca = PCA(n_components=2)\n",
    "pca_transformed = pca.fit_transform(df)\n",
    "\n",
    "df['pca_x'] = pca_transformed[:,0]\n",
    "df['pca_y'] = pca_transformed[:,1]\n",
    "\n",
    "# 군집\n",
    "kmeans = KMeans(n_clusters=2)\n",
    "kmeans.fit(pca_transformed)\n",
    "print(kmeans.labels_)\n",
    "print(\"응집도 추출: \", kmeans.inertia_)\n",
    "\n",
    "# 군집화 중심점\n",
    "center = kmeans.cluster_centers_\n",
    "# print('센타', center)\n",
    "\n",
    "# df에 군집결과 넣기\n",
    "df['cluster'] = kmeans.labels_\n",
    "\n",
    "\n",
    "# 군집 결과 시각화\n",
    "plt.figure(figsize=(8, 4))\n",
    "plt.scatter(df['pca_x'], df['pca_y'], c=df['cluster'])\n",
    "plt.scatter(center[:,0], center[:,1], c='r', marker='s')\n",
    "plt.title('Clustering')\n",
    "plt.xlabel('pca_x')\n",
    "plt.ylabel('pca_y')"
   ]
  },
  {
   "cell_type": "markdown",
   "id": "00028603",
   "metadata": {},
   "source": [
    "## 군집화 결과를 보고 y축은 수가 높은 것을 보니 tco_btc_u_am(이용 금액) 인듯하고, x축은 음식점인듯하다..? 정확하지 않으며 잘 몰겠음..!"
   ]
  },
  {
   "cell_type": "code",
   "execution_count": null,
   "id": "e9cb037b",
   "metadata": {},
   "outputs": [],
   "source": []
  }
 ],
 "metadata": {
  "kernelspec": {
   "display_name": "Python 3 (ipykernel)",
   "language": "python",
   "name": "python3"
  },
  "language_info": {
   "codemirror_mode": {
    "name": "ipython",
    "version": 3
   },
   "file_extension": ".py",
   "mimetype": "text/x-python",
   "name": "python",
   "nbconvert_exporter": "python",
   "pygments_lexer": "ipython3",
   "version": "3.9.7"
  }
 },
 "nbformat": 4,
 "nbformat_minor": 5
}
